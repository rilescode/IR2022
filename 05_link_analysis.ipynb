{
  "cells": [
    {
      "cell_type": "markdown",
      "metadata": {
        "id": "223y2d4W1Za4"
      },
      "source": [
        "# Assignment 5: Link Analysis"
      ]
    },
    {
      "cell_type": "markdown",
      "metadata": {
        "id": "CMcactoa1Za8"
      },
      "source": [
        "In this assignment, we will use network-based algorithms, such as PageRank, to improve our search results. After the last assignment on evaluating IR systems, we go back to our PubMed dataset of scientific papers. In this dataset, we look at two graphs in particular: the co-authorship network and the citation network.\n",
        "\n",
        "The citation network is similar to the link network of the web: Citations are like web links pointing to other documents. We can therefore apply the same network-based ranking methods."
      ]
    },
    {
      "cell_type": "markdown",
      "metadata": {
        "id": "nYV3AEq-1Za9"
      },
      "source": [
        "## Code from previous assignments"
      ]
    },
    {
      "cell_type": "code",
      "execution_count": 1,
      "metadata": {
        "id": "MqR7ShNc1Za9"
      },
      "outputs": [],
      "source": [
        "import pickle, bz2\n",
        "from collections import defaultdict, namedtuple, Counter\n",
        "from math import log10, sqrt\n",
        "from IPython.display import display, HTML\n",
        "import matplotlib.pyplot as plt\n",
        "\n",
        "# show plots inline within the notebook\n",
        "%matplotlib inline\n",
        "# set plots' resolution\n",
        "plt.rcParams['savefig.dpi'] = 100"
      ]
    },
    {
      "cell_type": "code",
      "execution_count": 2,
      "metadata": {
        "id": "NsxkfwAP1Za-"
      },
      "outputs": [],
      "source": [
        "Ids_file = 'data/cognition_Ids.pkl.bz2'\n",
        "Summaries_file = 'data/cognition_Summaries.pkl.bz2'\n",
        "Citations_file = 'data/cognition_Citations.pkl.bz2'\n",
        "Abstracts_file = 'data/cognition_Abstracts.pkl.bz2'\n",
        "\n",
        "Ids = pickle.load( bz2.BZ2File( Ids_file, 'rb' ) )\n",
        "Summaries = pickle.load( bz2.BZ2File( Summaries_file, 'rb' ) )\n",
        "Citations = pickle.load( bz2.BZ2File( Citations_file, 'rb' ) )\n",
        "Abstracts = pickle.load( bz2.BZ2File( Abstracts_file, 'rb' ) )\n",
        "\n",
        "paper = namedtuple( 'paper', ['title', 'authors', 'year', 'doi'] )\n",
        "\n",
        "for (id, paper_info) in Summaries.items():\n",
        "    Summaries[id] = paper( *paper_info )"
      ]
    },
    {
      "cell_type": "code",
      "execution_count": 3,
      "metadata": {
        "id": "iYdnBmzc1Za_"
      },
      "outputs": [],
      "source": [
        "def display_summary( id, show_abstract=False, show_id=True, extra_text='' ):\n",
        "    \"\"\"\n",
        "    Function for printing a paper's summary through IPython's Rich Display System.\n",
        "    Trims long author lists, and adds a link to the paper's DOI (when available).\n",
        "    \"\"\"\n",
        "    s = Summaries[id]\n",
        "    lines = []\n",
        "    title = s.title\n",
        "    \n",
        "    if s.doi != '':\n",
        "        title = '<a href=http://dx.doi.org/{:s}>{:s}</a>'.format(s.doi, title)\n",
        "    title = '<strong>' + title + '</strong>'\n",
        "    lines.append(title)\n",
        "    authors = ', '.join( s.authors[:20] ) + ('' if len(s.authors) <= 20 else ', ...')\n",
        "    lines.append(str(s.year) + '. ' + authors)\n",
        "    if (show_abstract):\n",
        "        lines.append('<small><strong>Abstract:</strong> <em>{:s}</em></small>'.format(Abstracts[id]))\n",
        "    if (show_id):\n",
        "        lines.append('[ID: {:d}]'.format(id))\n",
        "    if (extra_text != ''):\n",
        "         lines.append(extra_text)\n",
        "    display( HTML('<br>'.join(lines)) )\n",
        "\n"
      ]
    },
    {
      "cell_type": "code",
      "execution_count": 4,
      "metadata": {
        "id": "w7mlRHzn1Za_"
      },
      "outputs": [],
      "source": [
        "def tokenize(text):\n",
        "    return text.split(' ')\n",
        "\n",
        "def preprocess(tokens):\n",
        "    result = []\n",
        "    for token in tokens:\n",
        "        result.append(token.lower())\n",
        "    return result"
      ]
    },
    {
      "cell_type": "code",
      "execution_count": 5,
      "metadata": {
        "id": "eBdJFPEc1ZbA"
      },
      "outputs": [],
      "source": [
        "inverted_index = defaultdict(list)\n",
        "\n",
        "for id in sorted(Summaries.keys()):\n",
        "    term_set = set(preprocess(tokenize(Summaries[id].title)))\n",
        "    if id in Abstracts:\n",
        "        term_set.update(preprocess(tokenize(Abstracts[id])))\n",
        "    for term in term_set:\n",
        "        inverted_index[term].append(id)\n",
        "\n",
        "tf_matrix = defaultdict(Counter)\n",
        "\n",
        "for doc_id in Summaries.keys():\n",
        "    tokens = preprocess(tokenize(Summaries[doc_id].title))\n",
        "    if (doc_id in Abstracts):\n",
        "        tokens.extend(preprocess(tokenize(Abstracts[doc_id])))\n",
        "    tf_matrix[doc_id] = Counter(tokens)\n",
        "\n",
        "def tf(t,d):\n",
        "    return float(tf_matrix[d][t])\n",
        "\n",
        "def df(t):\n",
        "    return float(len(inverted_index[t]))\n",
        "\n",
        "num_documents = float(len(Summaries))\n",
        "\n",
        "def idf(t):\n",
        "    return log10((num_documents + 1)/(df(t) + 1))\n",
        "\n",
        "def tfidf(t,d):\n",
        "    return tf(t,d) * idf(t)"
      ]
    },
    {
      "cell_type": "markdown",
      "metadata": {
        "id": "lCu-UStT1ZbB"
      },
      "source": [
        "## Co-authorship network"
      ]
    },
    {
      "cell_type": "markdown",
      "metadata": {
        "id": "w48HaW3p1ZbB"
      },
      "source": [
        "We start by building a mapping from authors to the set of identifiers of papers they authored.  We'll be using Python sets again for that purpose."
      ]
    },
    {
      "cell_type": "code",
      "execution_count": 6,
      "metadata": {
        "id": "CvCC3Ejq1ZbB"
      },
      "outputs": [],
      "source": [
        "papers_of_author = defaultdict(set)\n",
        "\n",
        "for (id, p) in Summaries.items():\n",
        "    for a in p.authors:\n",
        "        papers_of_author[a].add(id)"
      ]
    },
    {
      "cell_type": "markdown",
      "metadata": {
        "id": "777ihShF1ZbC"
      },
      "source": [
        "Let's try it out:"
      ]
    },
    {
      "cell_type": "code",
      "execution_count": 7,
      "metadata": {
        "colab": {
          "base_uri": "https://localhost:8080/"
        },
        "id": "mekWDaE11ZbC",
        "outputId": "cdaf1b34-6147-4c96-a251-927b63eed254"
      },
      "outputs": [
        {
          "output_type": "execute_result",
          "data": {
            "text/plain": [
              "{26860092, 26973573, 31649584, 33190365, 33471320}"
            ]
          },
          "metadata": {},
          "execution_count": 7
        }
      ],
      "source": [
        "papers_of_author['Jensen C']"
      ]
    },
    {
      "cell_type": "code",
      "execution_count": 8,
      "metadata": {
        "colab": {
          "base_uri": "https://localhost:8080/",
          "height": 277
        },
        "id": "LHBpOkik1ZbD",
        "outputId": "3819268b-f4d6-4210-d740-b30df68aed98"
      },
      "outputs": [
        {
          "output_type": "display_data",
          "data": {
            "text/plain": [
              "<IPython.core.display.HTML object>"
            ],
            "text/html": [
              "<strong><a href=http://dx.doi.org/10.3389/fpsyg.2016.00277>Australian University Students' Coping Strategies and Use of Pharmaceutical Stimulants as Cognitive Enhancers.</a></strong><br>2016. Jensen C, Forlini C, Partridge B, Hall W<br>[ID: 26973573]"
            ]
          },
          "metadata": {}
        },
        {
          "output_type": "display_data",
          "data": {
            "text/plain": [
              "<IPython.core.display.HTML object>"
            ],
            "text/html": [
              "<strong><a href=http://dx.doi.org/10.3389/fpsyg.2019.02233>Occupational Rehabilitation Is Associated With Improvements in Cognitive Functioning.</a></strong><br>2019. Johansen T, Jensen C, Eriksen HR, Lyby PS, Dittrich WH, Holsen IN, Jakobsen H, Øyeflaten I<br>[ID: 31649584]"
            ]
          },
          "metadata": {}
        },
        {
          "output_type": "display_data",
          "data": {
            "text/plain": [
              "<IPython.core.display.HTML object>"
            ],
            "text/html": [
              "<strong><a href=http://dx.doi.org/10.1007/s10926-020-09944-5>Sustained Attention and Working Memory Predict the Number of Days on Health-Related Benefits in the Year Following Occupational Rehabilitation.</a></strong><br>2021. Johansen T, Øyeflaten I, Eriksen HR, Lyby PS, Dittrich WH, Holsen I, Jakobsen H, Del Risco Kollerud R, Jensen C<br>[ID: 33471320]"
            ]
          },
          "metadata": {}
        },
        {
          "output_type": "display_data",
          "data": {
            "text/plain": [
              "<IPython.core.display.HTML object>"
            ],
            "text/html": [
              "<strong><a href=http://dx.doi.org/10.1007/s00415-016-8035-1>Prevalence and symptoms of intracranial arachnoid cysts: a population-based study.</a></strong><br>2016. Rabiei K, Jaraj D, Marlow T, Jensen C, Skoog I, Wikkelsø C<br>[ID: 26860092]"
            ]
          },
          "metadata": {}
        },
        {
          "output_type": "display_data",
          "data": {
            "text/plain": [
              "<IPython.core.display.HTML object>"
            ],
            "text/html": [
              "<strong><a href=http://dx.doi.org/10.1111/dar.13190>Study drug use among university students in Western Australia: Results of a web survey and their policy and practice implications.</a></strong><br>2021. Nelson M, Jensen C, Lenton S<br>[ID: 33190365]"
            ]
          },
          "metadata": {}
        }
      ],
      "source": [
        "for id in papers_of_author['Jensen C']:\n",
        "    display_summary(id)"
      ]
    },
    {
      "cell_type": "markdown",
      "metadata": {
        "id": "Oiu4kPRJ1ZbD"
      },
      "source": [
        "We can now build a co-authorship network, that is a graph linking authors to the set of co-authors they have published with:"
      ]
    },
    {
      "cell_type": "code",
      "execution_count": 9,
      "metadata": {
        "id": "sTxjVVzh1ZbD"
      },
      "outputs": [],
      "source": [
        "coauthors = defaultdict(set)\n",
        "\n",
        "for p in Summaries.values():\n",
        "    for a in p.authors:\n",
        "        coauthors[a].update(p.authors)\n",
        "\n",
        "# The code above results in each author being listed as having co-authored with himself/herself.\n",
        "# We remove these self-references here:\n",
        "for (a, ca) in coauthors.items():\n",
        "    ca.remove(a)"
      ]
    },
    {
      "cell_type": "markdown",
      "metadata": {
        "id": "5vRVakjc1ZbE"
      },
      "source": [
        "And let's try it out again:"
      ]
    },
    {
      "cell_type": "code",
      "execution_count": 10,
      "metadata": {
        "colab": {
          "base_uri": "https://localhost:8080/"
        },
        "id": "y3TKRABi1ZbE",
        "outputId": "c4d84dd3-3994-46d3-ec25-b19f4d02ab57"
      },
      "outputs": [
        {
          "output_type": "stream",
          "name": "stdout",
          "text": [
            "Eriksen HR, Lyby PS, Jaraj D, Partridge B, Holsen I, Holsen IN, Marlow T, Wikkelsø C, Rabiei K, Øyeflaten I, Hall W, Jakobsen H, Del Risco Kollerud R, Dittrich WH, Forlini C, Skoog I, Johansen T, Nelson M, Lenton S\n"
          ]
        }
      ],
      "source": [
        "print(', '.join( coauthors['Jensen C'] ))"
      ]
    },
    {
      "cell_type": "markdown",
      "metadata": {
        "id": "TJGWO9N11ZbE"
      },
      "source": [
        "Unlike a citation or link network, the edges of this co-authorship network are not directed: There is no direction (no arrow) in the link between author 'Jensen C' and 'Holsen IN', for example. With our chosen implementation, each of these links in fact appears twice in our data, as we also get 'Jensen C' as co-author when we look for 'Holsen IN':"
      ]
    },
    {
      "cell_type": "code",
      "execution_count": 11,
      "metadata": {
        "colab": {
          "base_uri": "https://localhost:8080/"
        },
        "id": "U5OUVRu-1ZbE",
        "outputId": "7761d8db-0f5d-44c1-b0e4-8b6716b2a418"
      },
      "outputs": [
        {
          "output_type": "stream",
          "name": "stdout",
          "text": [
            "Jakobsen H, Eriksen HR, Lyby PS, Johansen T, Dittrich WH, Øyeflaten I, Jensen C\n"
          ]
        }
      ],
      "source": [
        "print(', '.join( coauthors['Holsen IN'] ))"
      ]
    },
    {
      "cell_type": "markdown",
      "metadata": {
        "id": "uIxy8AMp1ZbE"
      },
      "source": [
        "With that in mind, we can calculate some basic statistics about our graph:"
      ]
    },
    {
      "cell_type": "code",
      "execution_count": 12,
      "metadata": {
        "colab": {
          "base_uri": "https://localhost:8080/"
        },
        "id": "LAfn8MBP1ZbF",
        "outputId": "e029e453-66c0-47b5-bd48-614e5ef1fe6a"
      },
      "outputs": [
        {
          "output_type": "stream",
          "name": "stdout",
          "text": [
            "Number of nodes (authors):  232358\n",
            "Number of links (co-authorship relations):  1999606\n"
          ]
        }
      ],
      "source": [
        "print('Number of nodes (authors): ', len(coauthors))\n",
        "\n",
        "# We divide by two here to account for the fact that each edge is represented twice (see above):\n",
        "coauthor_rel_count = int(sum( len(c) for c in coauthors.values() ) / 2)\n",
        "print('Number of links (co-authorship relations): ', coauthor_rel_count)"
      ]
    },
    {
      "cell_type": "markdown",
      "metadata": {
        "id": "sl9KBkrA1ZbF"
      },
      "source": [
        "With this data at hand, we can plot the [degree distribution](https://en.wikipedia.org/wiki/Degree_distribution) by showing the number of collaborators a scientist has published with:"
      ]
    },
    {
      "cell_type": "code",
      "execution_count": 13,
      "metadata": {
        "colab": {
          "base_uri": "https://localhost:8080/",
          "height": 279
        },
        "id": "K0jb5xaC1ZbF",
        "outputId": "559d64c4-37ee-49e0-c387-c1554d98bed2"
      },
      "outputs": [
        {
          "output_type": "display_data",
          "data": {
            "text/plain": [
              "<Figure size 432x288 with 1 Axes>"
            ],
            "image/png": "[encoded data removed]"
          },
          "metadata": {
            "needs_background": "light"
          }
        }
      ],
      "source": [
        "plt.hist( x=[ len(ca) for ca in coauthors.values() ], bins=range(60) )\n",
        "plt.xlabel('number of co-authors')\n",
        "plt.ylabel('number of researchers')\n",
        "plt.xlim(0,51);"
      ]
    },
    {
      "cell_type": "markdown",
      "metadata": {
        "id": "dquTWSko1ZbF"
      },
      "source": [
        "Now that we have explored this network, let's move to the citation network."
      ]
    },
    {
      "cell_type": "markdown",
      "metadata": {
        "id": "lRqnFHUM1ZbF"
      },
      "source": [
        "## Citations network"
      ]
    },
    {
      "cell_type": "markdown",
      "metadata": {
        "id": "Qzljz4yq1ZbF"
      },
      "source": [
        "Next, we can look at the citation network. In contrast to the co-authorship network, the citation network is a _directed_ network, where edges can be drawn as arrows. We'll start by expanding the our data about citations into two mappings: \n",
        "\n",
        "* `papers_citing[id]`: papers citing a given paper\n",
        "* `cited_by[id]`: papers cited by a given paper (in other words: its list of references)\n",
        "\n",
        "`papers_citing` will give us the list of a node's incoming links, whereas `cited_by` will give us the list of its outgoing links."
      ]
    },
    {
      "cell_type": "code",
      "execution_count": 14,
      "metadata": {
        "id": "QE_ZMBU81ZbF"
      },
      "outputs": [],
      "source": [
        "papers_citing = Citations  # no changes needed, this is what we are storing already in the Citations dataset\n",
        "\n",
        "cited_by = defaultdict(list)\n",
        "\n",
        "for ref, papers_citing_ref in papers_citing.items():\n",
        "    for id in papers_citing_ref:\n",
        "        cited_by[ id ].append( ref )"
      ]
    },
    {
      "cell_type": "markdown",
      "metadata": {
        "id": "kQ7uTfUJ1ZbG"
      },
      "source": [
        "As we are dealing with a subset of the data (the papers mentioning \"cognition\"), `papers_citing` can contain references to papers outside of our subset. On the other hand, the way we created `cited_by`, it will only contain backward references from within our dataset, meaning that it is incomplete with respect to the whole dataset. Nethertheless, we can use this citation network on our subset of emotion-related papers to implement link analysis techniques.\n",
        "\n",
        "Let us now look at an exemplary paper, let's say the one with identifier 26784347. We can now use the `cited_by` mapping to retrieve its (incomplete) list of references:"
      ]
    },
    {
      "cell_type": "code",
      "execution_count": 15,
      "metadata": {
        "colab": {
          "base_uri": "https://localhost:8080/"
        },
        "id": "XFkDPR291ZbG",
        "outputId": "8fb24a36-4b20-40e3-a700-4fc7cf620b17"
      },
      "outputs": [
        {
          "output_type": "stream",
          "name": "stdout",
          "text": [
            "2 references found for paper 26973573\n"
          ]
        },
        {
          "output_type": "execute_result",
          "data": {
            "text/plain": [
              "{24606831: 'Life context of pharmacological academic performance enhancement among university students--a qualitative approach.',\n",
              " 23486311: 'Just How Cognitive Is \"Cognitive Enhancement\"? On the Significance of Emotions in University Students\\' Experiences with Study Drugs.'}"
            ]
          },
          "metadata": {},
          "execution_count": 15
        }
      ],
      "source": [
        "paper_id = 26973573\n",
        "refs = { id : Summaries[id].title for id in cited_by[paper_id] }\n",
        "print(len(refs), 'references found for paper', paper_id)\n",
        "refs"
      ]
    },
    {
      "cell_type": "markdown",
      "metadata": {
        "id": "D_D1Nghg1ZbG"
      },
      "source": [
        "If we lookup the same paper in `papers_citing`, we now see that some of the cited papers are themselves in our dataset, but others are not (shown below as `'??'`):"
      ]
    },
    {
      "cell_type": "code",
      "execution_count": 16,
      "metadata": {
        "colab": {
          "base_uri": "https://localhost:8080/"
        },
        "id": "7btVShi41ZbG",
        "outputId": "4fad5f82-d260-40a2-88ff-70530ea0503c"
      },
      "outputs": [
        {
          "output_type": "execute_result",
          "data": {
            "text/plain": [
              "{35742024: '??',\n",
              " 35478516: '??',\n",
              " 35081158: '??',\n",
              " 34964411: '??',\n",
              " 34485541: '??',\n",
              " 33897499: '??',\n",
              " 33802176: '??',\n",
              " 31934382: '??',\n",
              " 31554263: '??',\n",
              " 31391711: 'Developing expertise, customising sleep, enhancing study practices: exploring the legitimisation of modafinil use within the accounts of UK undergraduate students.',\n",
              " 31143791: '??',\n",
              " 30681970: '??',\n",
              " 30453936: '??',\n",
              " 29904327: '??',\n",
              " 28554200: 'The Memory-Enhancing Effects of Liquiritigenin by Activation of NMDA Receptors and the CREB Signaling Pathway in Mice.'}"
            ]
          },
          "metadata": {},
          "execution_count": 16
        }
      ],
      "source": [
        "{ id : Summaries.get(id,['??'])[0]  for id in papers_citing[paper_id] }"
      ]
    },
    {
      "cell_type": "markdown",
      "metadata": {
        "id": "CchBGglO1ZbG"
      },
      "source": [
        "Paper 35742024, for example, is not in our dataset and we do not have any direct information about it, but its repeated occurrence in other papers' citation lists does allow us to reconstruct some of its references. Below is the list of papers in our dataset cited by that paper:"
      ]
    },
    {
      "cell_type": "code",
      "execution_count": 17,
      "metadata": {
        "colab": {
          "base_uri": "https://localhost:8080/"
        },
        "id": "pFvndIx31ZbH",
        "outputId": "71ccc843-8913-49f5-b7ed-027d481b5c3a"
      },
      "outputs": [
        {
          "output_type": "stream",
          "name": "stdout",
          "text": [
            "6 references identified for the paper with id 35742024\n"
          ]
        },
        {
          "output_type": "execute_result",
          "data": {
            "text/plain": [
              "{35206801: 'Can Nutrients and Dietary Supplements Potentially Improve Cognitive Performance Also in Esports?',\n",
              " 31101387: 'The influence of environmental pressure on Internet Use Disorder in adolescents: The potential mediating role of cognitive function.',\n",
              " 27706797: 'Repurposing Drugs for Cognition in Schizophrenia.',\n",
              " 26973573: \"Australian University Students' Coping Strategies and Use of Pharmaceutical Stimulants as Cognitive Enhancers.\",\n",
              " 19300592: \"Potential cognitive enhancing and disease modification effects of SSRIs for Alzheimer's disease.\",\n",
              " 15330974: 'Cognition-enhancing drugs.'}"
            ]
          },
          "metadata": {},
          "execution_count": 17
        }
      ],
      "source": [
        "paper_id2 = 35742024\n",
        "refs2 = { id : Summaries[id].title for id in cited_by[paper_id2] }\n",
        "print(len(refs2), 'references identified for the paper with id', paper_id2)\n",
        "refs2"
      ]
    },
    {
      "cell_type": "markdown",
      "metadata": {
        "id": "5CHxQxbF1ZbH"
      },
      "source": [
        "Now that we have a better understanding about the data we're dealing with, let us obtain again some basic statistics about our graph."
      ]
    },
    {
      "cell_type": "code",
      "execution_count": 18,
      "metadata": {
        "colab": {
          "base_uri": "https://localhost:8080/"
        },
        "id": "P6i5Ixu51ZbH",
        "outputId": "967e2919-0fa3-4a38-c3a5-8f70a032b478"
      },
      "outputs": [
        {
          "output_type": "stream",
          "name": "stdout",
          "text": [
            "Number of papers in our subset: 102128 (100.00 %)\n",
            "Number of papers cited at least once: 82163 (80.45 %)\n",
            "Number of isolated nodes:  14342 (14.04 %)\n"
          ]
        }
      ],
      "source": [
        "n = len(Ids)\n",
        "print('Number of papers in our subset: {:d} ({:.2f} %)'.format(n, 100.0) )\n",
        "\n",
        "with_citation = [ id for id in Ids if papers_citing[id] != [] ]\n",
        "with_citation_rel = 100. * len(with_citation) / n\n",
        "print('Number of papers cited at least once: {:d} ({:.2f} %)'.format(len(with_citation), with_citation_rel) )\n",
        "\n",
        "isolated = set( id for id in Ids if papers_citing[id] == [] and id not in cited_by )\n",
        "isolated_rel = 100. * len(isolated) / n\n",
        "print('Number of isolated nodes:  {:d} ({:.2f} %)'.format(len(isolated), isolated_rel) )"
      ]
    },
    {
      "cell_type": "code",
      "execution_count": 19,
      "metadata": {
        "colab": {
          "base_uri": "https://localhost:8080/"
        },
        "id": "ZivWWSQR1ZbH",
        "outputId": "055b4992-6973-43ed-90cd-301be5b1c5e8"
      },
      "outputs": [
        {
          "output_type": "stream",
          "name": "stdout",
          "text": [
            "Overall number of nodes: 591542 (100.00 %)\n",
            "Number of non-isolated nodes: 577200 (97.58 %)\n",
            "Number of nodes outside our subset: 489414 (82.74 %)\n"
          ]
        }
      ],
      "source": [
        "id_set = set( Ids )\n",
        "citing_set = set( cited_by.keys() )\n",
        "\n",
        "outsiders = citing_set - id_set   # set difference\n",
        "nodes = citing_set | id_set   # set union\n",
        "non_isolated = nodes - isolated   # set difference\n",
        "\n",
        "print('Overall number of nodes: {:d} ({:.2f} %)'.format(len(nodes), 100.0) )\n",
        "\n",
        "non_isolated_rel = 100. * len(non_isolated) / len(nodes)\n",
        "print('Number of non-isolated nodes: {:d} ({:.2f} %)'.format(len(non_isolated), non_isolated_rel) )\n",
        "\n",
        "outsiders_rel = 100. * len(outsiders) / len(nodes)\n",
        "print('Number of nodes outside our subset: {:d} ({:.2f} %)'.format( len(outsiders), outsiders_rel ) )"
      ]
    },
    {
      "cell_type": "code",
      "execution_count": 20,
      "metadata": {
        "colab": {
          "base_uri": "https://localhost:8080/"
        },
        "id": "LbkgZay21ZbI",
        "outputId": "663289d6-31c9-433f-be79-c196684a12c2"
      },
      "outputs": [
        {
          "output_type": "stream",
          "name": "stdout",
          "text": [
            "Overall number of links (citations): 1481661 (100.00 %)\n",
            "Citations outside the subset: 1215358 (82.03 %)\n"
          ]
        }
      ],
      "source": [
        "all_citations = [ c for citing in papers_citing.values() for c in citing ]\n",
        "outsider_citations = [ c for citing in papers_citing.values() for c in citing if c in outsiders ]\n",
        "\n",
        "print('Overall number of links (citations): {:d} ({:.2f} %)'.format(len(all_citations), 100.0) )\n",
        "\n",
        "outsider_citations_rel = 100. * len(outsider_citations) / len(all_citations)\n",
        "print('Citations outside the subset: {:d} ({:.2f} %)'.format(len(outsider_citations), outsider_citations_rel) )"
      ]
    },
    {
      "cell_type": "markdown",
      "metadata": {
        "id": "RMHpAhD81ZbI"
      },
      "source": [
        "Let us now find our which 10 papers are the most cited in our dataset."
      ]
    },
    {
      "cell_type": "code",
      "execution_count": 21,
      "metadata": {
        "colab": {
          "base_uri": "https://localhost:8080/",
          "height": 763
        },
        "id": "jYVXO4081ZbI",
        "outputId": "98681ce4-2d13-4353-f6c2-99bc4e162a13"
      },
      "outputs": [
        {
          "output_type": "display_data",
          "data": {
            "text/plain": [
              "<IPython.core.display.HTML object>"
            ],
            "text/html": [
              "<strong><a href=http://dx.doi.org/10.1196/annals.1440.011>The brain's default network: anatomy, function, and relevance to disease.</a></strong><br>2008. Buckner RL, Andrews-Hanna JR, Schacter DL<br>[ID: 18400922]<br>Citation count: 3553"
            ]
          },
          "metadata": {}
        },
        {
          "output_type": "display_data",
          "data": {
            "text/plain": [
              "<IPython.core.display.HTML object>"
            ],
            "text/html": [
              "<strong><a href=http://dx.doi.org/10.1016/j.jalz.2011.03.003>Toward defining the preclinical stages of Alzheimer's disease: recommendations from the National Institute on Aging-Alzheimer's Association workgroups on diagnostic guidelines for Alzheimer's disease.</a></strong><br>2011. Sperling RA, Aisen PS, Beckett LA, Bennett DA, Craft S, Fagan AM, Iwatsubo T, Jack CR Jr, Kaye J, Montine TJ, Park DC, Reiman EM, Rowe CC, Siemers E, Stern Y, Yaffe K, Carrillo MC, Thies B, Morrison-Bogorad M, Wagster MV, ...<br>[ID: 21514248]<br>Citation count: 2461"
            ]
          },
          "metadata": {}
        },
        {
          "output_type": "display_data",
          "data": {
            "text/plain": [
              "<IPython.core.display.HTML object>"
            ],
            "text/html": [
              "<strong><a href=http://dx.doi.org/10.1152/jn.00338.2011>The organization of the human cerebral cortex estimated by intrinsic functional connectivity.</a></strong><br>2011. Yeo BT, Krienen FM, Sepulcre J, Sabuncu MR, Lashkari D, Hollinshead M, Roffman JL, Smoller JW, Zöllei L, Polimeni JR, Fischl B, Liu H, Buckner RL<br>[ID: 21653723]<br>Citation count: 2433"
            ]
          },
          "metadata": {}
        },
        {
          "output_type": "display_data",
          "data": {
            "text/plain": [
              "<IPython.core.display.HTML object>"
            ],
            "text/html": [
              "<strong><a href=http://dx.doi.org/10.1016/S2215-0366(20)30168-1>Multidisciplinary research priorities for the COVID-19 pandemic: a call for action for mental health science.</a></strong><br>2020. Holmes EA, O'Connor RC, Perry VH, Tracey I, Wessely S, Arseneault L, Ballard C, Christensen H, Cohen Silver R, Everall I, Ford T, John A, Kabir T, King K, Madan I, Michie S, Przybylski AK, Shafran R, Sweeney A, Worthman CM, ...<br>[ID: 32304649]<br>Citation count: 1970"
            ]
          },
          "metadata": {}
        },
        {
          "output_type": "display_data",
          "data": {
            "text/plain": [
              "<IPython.core.display.HTML object>"
            ],
            "text/html": [
              "<strong><a href=http://dx.doi.org/10.1007/s00429-010-0262-0>Saliency, switching, attention and control: a network model of insula function.</a></strong><br>2010. Menon V, Uddin LQ<br>[ID: 20512370]<br>Citation count: 1922"
            ]
          },
          "metadata": {}
        },
        {
          "output_type": "display_data",
          "data": {
            "text/plain": [
              "<IPython.core.display.HTML object>"
            ],
            "text/html": [
              "<strong><a href=http://dx.doi.org/10.1503/cmaj.050051>A global clinical measure of fitness and frailty in elderly people.</a></strong><br>2005. Rockwood K, Song X, MacKnight C, Bergman H, Hogan DB, McDowell I, Mitnitski A<br>[ID: 16129869]<br>Citation count: 1810"
            ]
          },
          "metadata": {}
        },
        {
          "output_type": "display_data",
          "data": {
            "text/plain": [
              "<IPython.core.display.HTML object>"
            ],
            "text/html": [
              "<strong><a href=http://dx.doi.org/10.1016/s1364-6613(00)01483-2>Cognitive and emotional influences in anterior cingulate cortex.</a></strong><br>2000. Bush G, Luu P, Posner MI<br>[ID: 10827444]<br>Citation count: 1726"
            ]
          },
          "metadata": {}
        },
        {
          "output_type": "display_data",
          "data": {
            "text/plain": [
              "<IPython.core.display.HTML object>"
            ],
            "text/html": [
              "<strong><a href=http://dx.doi.org/10.1038/nrn2639>Effects of stress throughout the lifespan on the brain, behaviour and cognition.</a></strong><br>2009. Lupien SJ, McEwen BS, Gunnar MR, Heim C<br>[ID: 19401723]<br>Citation count: 1647"
            ]
          },
          "metadata": {}
        },
        {
          "output_type": "display_data",
          "data": {
            "text/plain": [
              "<IPython.core.display.HTML object>"
            ],
            "text/html": [
              "<strong><a href=http://dx.doi.org/10.1016/j.neuron.2008.04.017>The reorienting system of the human brain: from environment to theory of mind.</a></strong><br>2008. Corbetta M, Patel G, Shulman GL<br>[ID: 18466742]<br>Citation count: 1298"
            ]
          },
          "metadata": {}
        },
        {
          "output_type": "display_data",
          "data": {
            "text/plain": [
              "<IPython.core.display.HTML object>"
            ],
            "text/html": [
              "<strong><a href=http://dx.doi.org/10.1038/nrn1884>Meeting of minds: the medial frontal cortex and social cognition.</a></strong><br>2006. Amodio DM, Frith CD<br>[ID: 16552413]<br>Citation count: 1238"
            ]
          },
          "metadata": {}
        }
      ],
      "source": [
        "citation_count_per_paper = [ (id, len(citations)) for (id,citations) in papers_citing.items() ]\n",
        "sorted_by_citation_count = sorted(citation_count_per_paper, key=lambda i:i[1], reverse=True)\n",
        "\n",
        "for (id, c) in sorted_by_citation_count[:10]:\n",
        "    display_summary(id, extra_text = 'Citation count: ' + str(c))"
      ]
    },
    {
      "cell_type": "markdown",
      "metadata": {
        "id": "xDWBdaab1ZbI"
      },
      "source": [
        "Before we can start calculating some interesting network metrics, we will first have a closer look at the Python package that we are going to use for that."
      ]
    },
    {
      "cell_type": "markdown",
      "metadata": {
        "id": "3E0iVeOz1ZbI"
      },
      "source": [
        "## Link Analysis for Search Engines"
      ]
    },
    {
      "cell_type": "markdown",
      "metadata": {
        "id": "zz-q5kra1ZbI"
      },
      "source": [
        "In order to use the citation network, we need to be able to perform some complex graph algorithms on it. To make our lives easier, we will use [NetworkX](https://pypi.python.org/pypi/networkx), a Python package for dealing with complex networks:"
      ]
    },
    {
      "cell_type": "code",
      "execution_count": 22,
      "metadata": {
        "colab": {
          "base_uri": "https://localhost:8080/"
        },
        "id": "8HPMHAUE1ZbI",
        "outputId": "b13eef01-15d8-4d83-a160-778ab1e5c4bd"
      },
      "outputs": [
        {
          "output_type": "stream",
          "name": "stdout",
          "text": [
            "Looking in indexes: https://pypi.org/simple, https://us-python.pkg.dev/colab-wheels/public/simple/\n",
            "Requirement already satisfied: networkx==2.6 in /usr/local/lib/python3.7/dist-packages (2.6)\n",
            "Requirement already satisfied: numpy>=1.19 in /usr/local/lib/python3.7/dist-packages (from networkx==2.6) (1.21.6)\n",
            "Requirement already satisfied: pandas>=1.1 in /usr/local/lib/python3.7/dist-packages (from networkx==2.6) (1.3.5)\n",
            "Requirement already satisfied: scipy!=1.6.1,>=1.5 in /usr/local/lib/python3.7/dist-packages (from networkx==2.6) (1.7.3)\n",
            "Requirement already satisfied: matplotlib>=3.3 in /usr/local/lib/python3.7/dist-packages (from networkx==2.6) (3.5.3)\n",
            "Requirement already satisfied: kiwisolver>=1.0.1 in /usr/local/lib/python3.7/dist-packages (from matplotlib>=3.3->networkx==2.6) (1.4.4)\n",
            "Requirement already satisfied: cycler>=0.10 in /usr/local/lib/python3.7/dist-packages (from matplotlib>=3.3->networkx==2.6) (0.11.0)\n",
            "Requirement already satisfied: packaging>=20.0 in /usr/local/lib/python3.7/dist-packages (from matplotlib>=3.3->networkx==2.6) (21.3)\n",
            "Requirement already satisfied: pyparsing>=2.2.1 in /usr/local/lib/python3.7/dist-packages (from matplotlib>=3.3->networkx==2.6) (3.0.9)\n",
            "Requirement already satisfied: python-dateutil>=2.7 in /usr/local/lib/python3.7/dist-packages (from matplotlib>=3.3->networkx==2.6) (2.8.2)\n",
            "Requirement already satisfied: fonttools>=4.22.0 in /usr/local/lib/python3.7/dist-packages (from matplotlib>=3.3->networkx==2.6) (4.38.0)\n",
            "Requirement already satisfied: pillow>=6.2.0 in /usr/local/lib/python3.7/dist-packages (from matplotlib>=3.3->networkx==2.6) (7.1.2)\n",
            "Requirement already satisfied: typing-extensions in /usr/local/lib/python3.7/dist-packages (from kiwisolver>=1.0.1->matplotlib>=3.3->networkx==2.6) (4.1.1)\n",
            "Requirement already satisfied: pytz>=2017.3 in /usr/local/lib/python3.7/dist-packages (from pandas>=1.1->networkx==2.6) (2022.6)\n",
            "Requirement already satisfied: six>=1.5 in /usr/local/lib/python3.7/dist-packages (from python-dateutil>=2.7->matplotlib>=3.3->networkx==2.6) (1.15.0)\n",
            "Looking in indexes: https://pypi.org/simple, https://us-python.pkg.dev/colab-wheels/public/simple/\n",
            "\u001b[31mERROR: Could not find a version that satisfies the requirement scipy==1.8.0 (from versions: 0.8.0, 0.9.0, 0.10.0, 0.10.1, 0.11.0, 0.12.0, 0.12.1, 0.13.0, 0.13.1, 0.13.2, 0.13.3, 0.14.0, 0.14.1, 0.15.0, 0.15.1, 0.16.0, 0.16.1, 0.17.0, 0.17.1, 0.18.0, 0.18.1, 0.19.0, 0.19.1, 1.0.0, 1.0.1, 1.1.0, 1.2.0, 1.2.1, 1.2.2, 1.2.3, 1.3.0rc1, 1.3.0rc2, 1.3.0, 1.3.1, 1.3.2, 1.3.3, 1.4.0rc1, 1.4.0rc2, 1.4.0, 1.4.1, 1.5.0rc1, 1.5.0rc2, 1.5.0, 1.5.1, 1.5.2, 1.5.3, 1.5.4, 1.6.0rc1, 1.6.0rc2, 1.6.0, 1.6.1, 1.6.2, 1.6.3, 1.7.0rc1, 1.7.0rc2, 1.7.0, 1.7.1, 1.7.2, 1.7.3)\u001b[0m\n",
            "\u001b[31mERROR: No matching distribution found for scipy==1.8.0\u001b[0m\n"
          ]
        }
      ],
      "source": [
        "! pip install networkx==2.6\n",
        "! pip install scipy==1.8.0\n",
        "#! pip uninstall torch-geometric\n",
        "#! pip install pyg-nightly\n",
        "#! pip install --upgrade networkx"
      ]
    },
    {
      "cell_type": "code",
      "execution_count": 23,
      "metadata": {
        "id": "vZG8b4Ox1ZbJ"
      },
      "outputs": [],
      "source": [
        "import networkx as nx\n",
        "\n",
        "G = nx.DiGraph(cited_by)"
      ]
    },
    {
      "cell_type": "markdown",
      "metadata": {
        "id": "DhSbOKDj1ZbJ"
      },
      "source": [
        "We now have a NetworkX Directed Graph stored in `G`, where a node represents a paper, and an edge represents a citation. This means we can now apply the [algorithms](http://networkx.github.io/documentation/networkx-1.10/reference/algorithms.html) and [functions](http://networkx.github.io/documentation/networkx-1.10/reference/functions.html) of NetworkX to our graph:"
      ]
    },
    {
      "cell_type": "code",
      "execution_count": 24,
      "metadata": {
        "colab": {
          "base_uri": "https://localhost:8080/"
        },
        "id": "GGQPhnOT1ZbJ",
        "outputId": "02dea75f-135d-4e8e-da4f-4fb809bcdf52"
      },
      "outputs": [
        {
          "output_type": "stream",
          "name": "stdout",
          "text": [
            "DiGraph with 577200 nodes and 1481661 edges\n",
            "Directed graph: True\n",
            "Density of graph: 4.447305434486632e-06\n"
          ]
        }
      ],
      "source": [
        "print(nx.info(G))\n",
        "print('Directed graph:', nx.is_directed(G))\n",
        "print('Density of graph:', nx.density(G))"
      ]
    },
    {
      "cell_type": "markdown",
      "metadata": {
        "id": "lgTPnwoQ1ZbJ"
      },
      "source": [
        "As this graph was generated from citations only, we need to add all isolated nodes (nodes that are not cited and do not cite other papers) as well:"
      ]
    },
    {
      "cell_type": "code",
      "execution_count": 25,
      "metadata": {
        "id": "gKNl48Hv1ZbJ"
      },
      "outputs": [],
      "source": [
        "G.add_nodes_from(isolated)"
      ]
    },
    {
      "cell_type": "markdown",
      "metadata": {
        "id": "2Gz0dqYw1ZbJ"
      },
      "source": [
        "And now we get slightly different values:"
      ]
    },
    {
      "cell_type": "code",
      "execution_count": 26,
      "metadata": {
        "colab": {
          "base_uri": "https://localhost:8080/"
        },
        "id": "XtSBfBfq1ZbJ",
        "outputId": "553cef51-355c-4bd6-f6bc-5cdf88e9fcf3"
      },
      "outputs": [
        {
          "output_type": "stream",
          "name": "stdout",
          "text": [
            "DiGraph with 591542 nodes and 1481661 edges\n",
            "Directed graph: True\n",
            "Density of graph: 4.2342686892270706e-06\n"
          ]
        }
      ],
      "source": [
        "print(nx.info(G))\n",
        "print('Directed graph:', nx.is_directed(G))\n",
        "print('Density of graph:', nx.density(G))"
      ]
    },
    {
      "cell_type": "markdown",
      "metadata": {
        "id": "kEX0J_501ZbK"
      },
      "source": [
        "Now we are ready to use this package for our tasks."
      ]
    },
    {
      "cell_type": "markdown",
      "metadata": {
        "id": "MbKE97vK1ZbK"
      },
      "source": [
        "----------"
      ]
    },
    {
      "cell_type": "markdown",
      "metadata": {
        "id": "rtVujhZ91ZbK"
      },
      "source": [
        "# Tasks"
      ]
    },
    {
      "cell_type": "markdown",
      "metadata": {
        "id": "8LbQWbzI1ZbK"
      },
      "source": [
        "**Your name:** ..."
      ]
    },
    {
      "cell_type": "markdown",
      "metadata": {
        "id": "MXpBNiEG1ZbK"
      },
      "source": [
        "### Task 1\n",
        "\n",
        "Plot the in-degree distribution (that is, the distribution of the number of incoming links; see [here](https://en.wikipedia.org/wiki/Degree_distribution) and [here](http://mathinsight.org/degree_distribution) for more detailed explanations) for the citation network. What can you tell about the shape of this distribution, and what does this tell us about the network?"
      ]
    },
    {
      "cell_type": "code",
      "execution_count": 27,
      "metadata": {
        "colab": {
          "base_uri": "https://localhost:8080/",
          "height": 279
        },
        "id": "t6b5UzxC1ZbK",
        "outputId": "2e8f2c06-0c2b-4461-b224-0a5e790f99d8"
      },
      "outputs": [
        {
          "output_type": "display_data",
          "data": {
            "text/plain": [
              "<Figure size 432x288 with 1 Axes>"
            ],
            "image/png": "[encoded data removed]"
          },
          "metadata": {
            "needs_background": "light"
          }
        }
      ],
      "source": [
        "plt.hist( x=[ len(pc) for pc in papers_citing.values() ], bins=range(30), density=True)  \n",
        "plt.xlabel('number of citations')  \n",
        "plt.ylabel('fraction of papers')  \n",
        "plt.xlim(0,20);  "
      ]
    },
    {
      "cell_type": "markdown",
      "metadata": {
        "id": "kgqtim341ZbK"
      },
      "source": [
        "**Answer:** \n",
        "This graph looks like it follows the distribution of a power law distribution. This tells us that the graph is a scale-free network, meaning that there is a very short average 'distance' between two articles (when following the links of citations). It also tells us that the graph is sparse, which is something that we already know from the calculations performed above. There will also be high clustering of the nodes."
      ]
    },
    {
      "cell_type": "markdown",
      "metadata": {
        "id": "Fv_O7wXC1ZbK"
      },
      "source": [
        "### Task 2\n",
        "\n",
        "Using the [Link Analysis](https://networkx.org/documentation/stable/reference/algorithms/link_analysis.html) algorithms provided by NetworkX, calculate the PageRank score for all nodes in the citation network, and store the result in a variable called `pageranks`.\n",
        "\n",
        "To test this, create first a list of all papers that are cited by exactly 10 other papers (using `papers_citing` defined above). Then sort these papers by their PageRank and retrieve the paper IDs with the maximum and minimum PageRank values. Print these minimum and maximum PageRank values together with their paper IDs.\n",
        "\n",
        "To print PageRank values, you might want to use commands like `print('{:.6f}'.format(var))` to use regular decimal notation with a fixed number of decimal places."
      ]
    },
    {
      "cell_type": "code",
      "execution_count": 28,
      "metadata": {
        "id": "q-0y0tR_1ZbL"
      },
      "outputs": [],
      "source": [
        "# Your code here\n",
        "pageranks = nx.pagerank(G)\n"
      ]
    },
    {
      "cell_type": "code",
      "source": [
        "#pageranks\n",
        "cited_by_ten = []\n",
        "for id, pc in papers_citing.items():\n",
        "  if(len(pc) == 10):\n",
        "    cited_by_ten.append(id)\n",
        "\n",
        "cited_by_ten_with_page_rank = defaultdict(int)\n",
        "for key, value in pageranks.items():\n",
        "  if(key in cited_by_ten):\n",
        "    cited_by_ten_with_page_rank[key] = value\n",
        "\n",
        "  "
      ],
      "metadata": {
        "id": "84VAVQQy3C9V"
      },
      "execution_count": 29,
      "outputs": []
    },
    {
      "cell_type": "code",
      "source": [
        "sorted_cited_by_ten = sorted(cited_by_ten_with_page_rank.items(), key=lambda i:i[1], reverse=True)\n",
        "print(\"max: \" + str(sorted_cited_by_ten[0][0]) + \": \" + '{:.6f}'.format(sorted_cited_by_ten[0][1]))\n",
        "print(\"min: \" + str(sorted_cited_by_ten[-1][0]) + \": \" + '{:.6f}'.format(sorted_cited_by_ten[-1][1]))\n",
        "#print(sorted_cited_by_ten)"
      ],
      "metadata": {
        "colab": {
          "base_uri": "https://localhost:8080/"
        },
        "id": "D4iMo1ka7dqK",
        "outputId": "4fb763ae-8b5e-4287-e12e-83dd18fc18b8"
      },
      "execution_count": 30,
      "outputs": [
        {
          "output_type": "stream",
          "name": "stdout",
          "text": [
            "max: 9236629: 0.000057\n",
            "min: 23379271: 0.000001\n"
          ]
        }
      ]
    },
    {
      "cell_type": "markdown",
      "metadata": {
        "id": "lATvBoXP1ZbL"
      },
      "source": [
        "### Task 3\n",
        "\n",
        "Why do the two papers above have such different PageRank values? Write code below to investigate and show the cause of this, and then explain the cause of this difference based on the results generated by your code."
      ]
    },
    {
      "cell_type": "code",
      "execution_count": 31,
      "metadata": {
        "colab": {
          "base_uri": "https://localhost:8080/"
        },
        "id": "vCZ3lgpW1ZbL",
        "outputId": "8306adc8-4b73-4037-8c3d-2a3471aa5e99"
      },
      "outputs": [
        {
          "output_type": "stream",
          "name": "stdout",
          "text": [
            "list of all paper that cite 9236629: [33308067, 29684402, 28588527, 26839123, 25180980, 23874416, 22586384, 18990119, 17500630, 10466154]\n",
            "sum of the pagerank of all papers citing 23379271: 0.000129\n",
            "list of all paper that cite 23379271: [35422471, 34281109, 34188592, 33897481, 33433606, 32614046, 31832344, 29740360, 29535646, 27281040]\n",
            "sum of the pagerank of all papers citing 23379271: 0.000012\n"
          ]
        }
      ],
      "source": [
        "# Your code here\n",
        "#print(cited_by[9236629])\n",
        "print(\"list of all paper that cite 9236629: \" + str(papers_citing[9236629]))\n",
        "max_citing_pageranks = 0\n",
        "for paper in papers_citing[9236629]:\n",
        "  max_citing_pageranks += pageranks[paper]\n",
        "print(\"sum of the pagerank of all papers citing 23379271: \" + '{:.6f}'.format(max_citing_pageranks))\n",
        "\n",
        "min_citing_pageranks = 0\n",
        "for paper in papers_citing[23379271]:\n",
        "  min_citing_pageranks += pageranks[paper]\n",
        "#print(cited_by[23379271])\n",
        "print(\"list of all paper that cite 23379271: \" + str(papers_citing[23379271]))\n",
        "print(\"sum of the pagerank of all papers citing 23379271: \" + '{:.6f}'.format(min_citing_pageranks))"
      ]
    },
    {
      "cell_type": "markdown",
      "metadata": {
        "id": "t16eYZ5X1ZbL"
      },
      "source": [
        "**Explanation:** \n",
        "\n",
        "We can see that neither of these papers cites an article that is also included in this list, so we can disregard the cited_by list.\n",
        "\n",
        "Both of these papers have the same number of papers citing them. In other words, they have the same indegree. However, the difference is noticable when summing up the pagerank of all the papers that cite them. For the max pagerank paper, the sum of the pagerank of the incoming papers is 0.000129, while for the min pagerank paper, the sum of the pagerank for the incoming papers is 0.000012. \n",
        "\n",
        "The sum of pageranks for the max paper is around 10x greater than the sum of pageranks for the min paper. Because pagerank is calculated based on the pagerank of incoming and outgoing links, we can see why there is such a large difference in these two papers.\n",
        "\n"
      ]
    },
    {
      "cell_type": "markdown",
      "metadata": {
        "id": "8MjR6w391ZbL"
      },
      "source": [
        "### Task 4\n",
        "\n",
        "Copy the scoring function `score_ntn_nnn` from Task 4 of assignment 3. Rename it to `score_ntn_nnn_pagerank` and change its code to incorporate a paper's PageRank score in it's final score, in addition to tf-idf. In other words, the new function should accept a `list` of query tokens and a document ID, and should return a single `float` value that is calculated based on both scores (PageRank and tf-idf). Note that a `tf-idf` function is already provided above. Explain your decision on how to combine the two scores."
      ]
    },
    {
      "cell_type": "code",
      "execution_count": 32,
      "metadata": {
        "id": "pZK43q041ZbL"
      },
      "outputs": [],
      "source": [
        "def score_ntn_nnn_pagerank(query_words, doc_id):  \n",
        "    score = 0  \n",
        "    for t in query_words:  \n",
        "        score += tfidf(t,doc_id)  \n",
        "    return score * pageranks[doc_id]  "
      ]
    },
    {
      "cell_type": "markdown",
      "metadata": {
        "id": "nobEBx_Z1ZbL"
      },
      "source": [
        "**Answer:** \n",
        "The combination should give equal weight to the pagerand ang the tfidf score, so the values should be multiplied together.\n",
        "\n",
        "If they were added together, then the values would have to be normalized so that one method didn't have more weight than the other.\n",
        "\n",
        "Furthermore, multiplying them together allows us to give a query that has a good tfidf score AND a good pagerank score, rather than a good tfidf score OR a good pagerank score. It utilizes both methods fully."
      ]
    },
    {
      "cell_type": "markdown",
      "metadata": {
        "id": "cgtCQJK11ZbL"
      },
      "source": [
        "### Task 5\n",
        "\n",
        "Copy the query function `query_ntn_nnn` from Task 4 of assignment 3 (also copy `or_merge`). Rename it to `query_ntn_nnn_pagerank` and change the code to use our new scoring function `score_ntn_nnn_pagerank` from task 4 above. Demonstrate these functions with an example query that returns paper 12094212 as the top result."
      ]
    },
    {
      "cell_type": "code",
      "execution_count": 33,
      "metadata": {
        "id": "uBU6X2iH1ZbM"
      },
      "outputs": [],
      "source": [
        "def query_ntn_nnn_pagerank(query_string):  \n",
        "    query_words = preprocess(tokenize(query_string))  \n",
        "    first_word = query_words[0]  \n",
        "    remaining_words = query_words[1:]  \n",
        "    or_list = inverted_index[first_word]  \n",
        "    for t in remaining_words:  \n",
        "        or_list = or_merge(or_list, inverted_index[t])  \n",
        "    for paper_id in sorted(or_list, key=lambda i: score_ntn_nnn_pagerank(query_words,i), reverse=True)[:10]:  \n",
        "        paper = Summaries[paper_id]  \n",
        "        print(str(paper_id) + ' ' + paper.title + ' (score: ' + str(score_ntn_nnn_pagerank(query_words,paper_id)) + ')')\n",
        "\n",
        "def or_merge(sorted_list1, sorted_list2):  \n",
        "    merged_list = []  \n",
        "    list1 = list(sorted_list1)  \n",
        "    list2 = list(sorted_list2)  \n",
        "    while (True):  \n",
        "        if (not list1):  \n",
        "            merged_list.extend(list2)  \n",
        "            break  \n",
        "        if (not list2):  \n",
        "            merged_list.extend(list1)  \n",
        "            break  \n",
        "        if (list1[0] < list2[0]):  \n",
        "            merged_list.append(list1[0])  \n",
        "            list1.pop(0)  \n",
        "        elif (list1[0] > list2[0]):  \n",
        "            merged_list.append(list2[0])  \n",
        "            list2.pop(0)  \n",
        "        else:  \n",
        "            merged_list.append(list1[0])  \n",
        "            list1.pop(0)  \n",
        "            list2.pop(0)  \n",
        "    return merged_list"
      ]
    },
    {
      "cell_type": "code",
      "execution_count": 34,
      "metadata": {
        "colab": {
          "base_uri": "https://localhost:8080/",
          "height": 139
        },
        "id": "9bwj_OVF1ZbM",
        "outputId": "67e785d4-b00a-49c3-ee68-99aba9714804"
      },
      "outputs": [
        {
          "output_type": "display_data",
          "data": {
            "text/plain": [
              "<IPython.core.display.HTML object>"
            ],
            "text/html": [
              "<strong><a href=http://dx.doi.org/10.1038/nrn875>The amygdala and reward.</a></strong><br>2002. Baxter MG, Murray EA<br><small><strong>Abstract:</strong> <em>The amygdala -- an almond-shaped group of nuclei at the heart of the telencephalon -- has been associated with a range of cognitive functions, including emotion, learning, memory, attention and perception. Most current views of amygdala function emphasize its role in negative emotions, such as fear, and in linking negative emotions with other aspects of cognition, such as learning and memory. However, recent evidence supports a role for the amygdala in processing positive emotions as well as negative ones, including learning about the beneficial biological value of stimuli. Indeed, the amygdala's role in stimulus-reward learning might be just as important as its role in processing negative affect and fear conditioning.</em></small><br>[ID: 12094212]"
            ]
          },
          "metadata": {}
        }
      ],
      "source": [
        "display_summary(12094212, show_abstract=True) \n",
        "#display_summary(8942959, show_abstract=True) "
      ]
    },
    {
      "cell_type": "code",
      "execution_count": 36,
      "metadata": {
        "colab": {
          "base_uri": "https://localhost:8080/"
        },
        "id": "q68yyfMX1ZbM",
        "outputId": "4cbb164e-2102-4a7b-cd3a-8acea1fa3eaf"
      },
      "outputs": [
        {
          "output_type": "stream",
          "name": "stdout",
          "text": [
            "12094212 The amygdala and reward. (score: 0.0017097807269492217)\n",
            "16339042 Oxytocin modulates neural circuitry for social cognition and fear in humans. (score: 0.0016118934787243346)\n",
            "15152031 Contrasting roles of basolateral amygdala and orbitofrontal cortex in impulsive choice. (score: 0.0013548355999029188)\n",
            "12724159 Extended amygdala and basal forebrain. (score: 0.0009333728835557345)\n",
            "20392275 What does the amygdala contribute to social cognition? (score: 0.0009271155460395205)\n",
            "18824074 The orbitofrontal cortex and beyond: from affect to decision-making. (score: 0.000850779349008864)\n",
            "21144997 Dopamine in motivational control: rewarding, aversive, and alerting. (score: 0.0007555663871831571)\n",
            "7895011 Contributions of anterior cingulate cortex to behaviour. (score: 0.0007236201633798094)\n",
            "10196532 Expectation of reward modulates cognitive signals in the basal ganglia. (score: 0.0006985379948011439)\n",
            "17804629 Delineation of multiple subpallial progenitor domains by the combinatorial expression of transcriptional codes. (score: 0.0006963803525688533)\n"
          ]
        }
      ],
      "source": [
        "query_ntn_nnn_pagerank(\"amygdala reward\")"
      ]
    },
    {
      "cell_type": "markdown",
      "metadata": {
        "id": "L7SCYS-01ZbM"
      },
      "source": [
        "# Submission"
      ]
    },
    {
      "cell_type": "markdown",
      "metadata": {
        "id": "jMZvc-8W1ZbM"
      },
      "source": [
        "Submit the answers to the assignment via Canvas as a modified version of this Notebook file (file with `.ipynb` extension) that includes your code and your answers.\n",
        "\n",
        "Before submitting, restart the kernel and re-run the complete code (**Kernel > Restart & Run All**), and then check whether your assignment code still works as expected.\n",
        "\n",
        "Don't forget to add your name, and remember that the assignments have to be done **individually**, and that code sharing or copying are **strictly forbidden** and will be punished."
      ]
    }
  ],
  "metadata": {
    "kernelspec": {
      "display_name": "Python 3 (ipykernel)",
      "language": "python",
      "name": "python3"
    },
    "language_info": {
      "codemirror_mode": {
        "name": "ipython",
        "version": 3
      },
      "file_extension": ".py",
      "mimetype": "text/x-python",
      "name": "python",
      "nbconvert_exporter": "python",
      "pygments_lexer": "ipython3",
      "version": "3.9.12"
    },
    "colab": {
      "provenance": [],
      "collapsed_sections": [
        "3E0iVeOz1ZbI"
      ]
    }
  },
  "nbformat": 4,
  "nbformat_minor": 0
}