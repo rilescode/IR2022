{
 "cells": [
  {
   "cell_type": "markdown",
   "metadata": {},
   "source": [
    "# Assignment 2: Building a Simple Index"
   ]
  },
  {
   "cell_type": "markdown",
   "metadata": {},
   "source": [
    "In this assignment, we will build a simple search index, which we will use later for Boolean retrieval. The assignment tasks are again at the bottom of this document."
   ]
  },
  {
   "cell_type": "markdown",
   "metadata": {},
   "source": [
    "## Loading the Data"
   ]
  },
  {
   "cell_type": "code",
   "execution_count": 1,
   "metadata": {},
   "outputs": [],
   "source": [
    "Summaries_file = 'data/cognition_Summaries.pkl.bz2'\n",
    "Abstracts_file = 'data/cognition_Abstracts.pkl.bz2'"
   ]
  },
  {
   "cell_type": "code",
   "execution_count": 2,
   "metadata": {},
   "outputs": [],
   "source": [
    "import pickle, bz2\n",
    "from collections import namedtuple\n",
    "\n",
    "Summaries = pickle.load( bz2.BZ2File( Summaries_file, 'rb' ) )\n",
    "\n",
    "paper = namedtuple( 'paper', ['title', 'authors', 'year', 'doi'] )\n",
    "\n",
    "for (id, paper_info) in Summaries.items():\n",
    "    \n",
    "    Summaries[id] = paper( *paper_info )\n",
    "    \n",
    "Abstracts = pickle.load( bz2.BZ2File( Abstracts_file, 'rb' ) )"
   ]
  },
  {
   "cell_type": "markdown",
   "metadata": {},
   "source": [
    "Let's have a look at what the data looks like for an example of a paper:"
   ]
  },
  {
   "cell_type": "code",
   "execution_count": 3,
   "metadata": {},
   "outputs": [
    {
     "data": {
      "text/plain": [
       "paper(title='Handgrip Strength in Old and Very Old Adults: Mood, Cognition, Function, and Mortality.', authors=['Stessman J', 'Rottenberg Y', 'Fischer M', 'Hammerman-Rozenberg A', 'Jacobs JM'], year=2017, doi='10.1111/jgs.14509')"
      ]
     },
     "execution_count": 3,
     "metadata": {},
     "output_type": "execute_result"
    }
   ],
   "source": [
    "Summaries[28102890]"
   ]
  },
  {
   "cell_type": "code",
   "execution_count": 4,
   "metadata": {},
   "outputs": [
    {
     "data": {
      "text/plain": [
       "'To determine the trajectory of handgrip strength (HGS) from age 70 to 90 and its association with mood, cognition, functional status, and mortality.'"
      ]
     },
     "execution_count": 4,
     "metadata": {},
     "output_type": "execute_result"
    }
   ],
   "source": [
    "Abstracts[28102890]"
   ]
  },
  {
   "cell_type": "markdown",
   "metadata": {},
   "source": [
    "## Some Utility Functions"
   ]
  },
  {
   "cell_type": "markdown",
   "metadata": {},
   "source": [
    "We'll define some utility functions that allow us to tokenize a string into terms, perform linguistic preprocessing on a list of terms, as well as a function to display information about a paper in a nice way. Note that these tokenization and preprocessing functions are rather naive. We will improve them in a later assignment."
   ]
  },
  {
   "cell_type": "code",
   "execution_count": 5,
   "metadata": {},
   "outputs": [
    {
     "name": "stdout",
     "output_type": "stream",
     "text": [
      "['lorem', 'ipsum', 'dolor', 'sit', 'amet']\n"
     ]
    }
   ],
   "source": [
    "def tokenize(text):\n",
    "    \"\"\"\n",
    "    Function that tokenizes a string in a rather naive way. Can be extended later.\n",
    "    \"\"\"\n",
    "    return text.split(' ')\n",
    "\n",
    "def preprocess(tokens):\n",
    "    \"\"\"\n",
    "    Perform linguistic preprocessing on a list of tokens. Can be extended later.\n",
    "    \"\"\"\n",
    "    result = []\n",
    "    for token in tokens:\n",
    "        result.append(token.lower())\n",
    "    return result\n",
    "\n",
    "print(preprocess(tokenize(\"Lorem ipsum dolor sit AMET\")))"
   ]
  },
  {
   "cell_type": "code",
   "execution_count": 6,
   "metadata": {},
   "outputs": [
    {
     "data": {
      "text/html": [
       "<strong><a href=http://dx.doi.org/10.1111/jgs.14509>Handgrip Strength in Old and Very Old Adults: Mood, Cognition, Function, and Mortality.</a></strong><br>2017. Stessman J, Rottenberg Y, Fischer M, Hammerman-Rozenberg A, Jacobs JM<br>[ID: 28102890]"
      ],
      "text/plain": [
       "<IPython.core.display.HTML object>"
      ]
     },
     "metadata": {},
     "output_type": "display_data"
    },
    {
     "data": {
      "text/html": [
       "<strong><a href=http://dx.doi.org/10.1111/jgs.14509>Handgrip Strength in Old and Very Old Adults: Mood, Cognition, Function, and Mortality.</a></strong><br>2017. Stessman J, Rottenberg Y, Fischer M, Hammerman-Rozenberg A, Jacobs JM<br><small><strong>Abstract:</strong> <em>To determine the trajectory of handgrip strength (HGS) from age 70 to 90 and its association with mood, cognition, functional status, and mortality.</em></small><br>[ID: 28102890]"
      ],
      "text/plain": [
       "<IPython.core.display.HTML object>"
      ]
     },
     "metadata": {},
     "output_type": "display_data"
    }
   ],
   "source": [
    "from IPython.display import display, HTML\n",
    "import re\n",
    "\n",
    "def display_summary( id, show_abstract=False, show_id=True, extra_text='' ):\n",
    "    \"\"\"\n",
    "    Function for printing a paper's summary through IPython's Rich Display System.\n",
    "    Trims long author lists, and adds a link to the paper's DOI (when available).\n",
    "    \"\"\"\n",
    "    s = Summaries[id]\n",
    "    lines = []\n",
    "    title = s.title\n",
    "    if s.doi != '':\n",
    "        title = '<a href=http://dx.doi.org/{:s}>{:s}</a>'.format(s.doi, title)\n",
    "    title = '<strong>' + title + '</strong>'\n",
    "    lines.append(title)\n",
    "    authors = ', '.join( s.authors[:20] ) + ('' if len(s.authors) <= 20 else ', ...')\n",
    "    lines.append(str(s.year) + '. ' + authors)\n",
    "    if (show_abstract):\n",
    "        lines.append('<small><strong>Abstract:</strong> <em>{:s}</em></small>'.format(Abstracts[id]))\n",
    "    if (show_id):\n",
    "        lines.append('[ID: {:d}]'.format(id))\n",
    "    if (extra_text != ''):\n",
    "         lines.append(extra_text)\n",
    "    display( HTML('<br>'.join(lines)) )\n",
    "\n",
    "display_summary(28102890)\n",
    "display_summary(28102890, show_abstract=True)"
   ]
  },
  {
   "cell_type": "markdown",
   "metadata": {},
   "source": [
    "## Creating our first index"
   ]
  },
  {
   "cell_type": "markdown",
   "metadata": {},
   "source": [
    "We will now create an _inverted index_ based on the words in the titles and abstracts of the papers in our dataset. We will implement our inverted index as a Python dictionary with term strings as keys and posting lists (implemented as Python lists) as values. We include all the tokens we can find in the title and (if available) in the abstract:"
   ]
  },
  {
   "cell_type": "code",
   "execution_count": 7,
   "metadata": {},
   "outputs": [],
   "source": [
    "from collections import defaultdict\n",
    "\n",
    "inverted_index = defaultdict(list)\n",
    "\n",
    "# This can take a few seconds:\n",
    "for id in sorted(Summaries.keys()):\n",
    "    term_set = set(preprocess(tokenize(Summaries[id].title)))\n",
    "    if id in Abstracts:\n",
    "        term_set.update(preprocess(tokenize(Abstracts[id])))\n",
    "    for term in term_set:\n",
    "        inverted_index[term].append(id)"
   ]
  },
  {
   "cell_type": "markdown",
   "metadata": {},
   "source": [
    "Let's see what's in the index for the example term 'amsterdam':"
   ]
  },
  {
   "cell_type": "code",
   "execution_count": null,
   "metadata": {},
   "outputs": [],
   "source": []
  },
  {
   "cell_type": "code",
   "execution_count": 8,
   "metadata": {},
   "outputs": [
    {
     "name": "stdout",
     "output_type": "stream",
     "text": [
      "[10547144, 17888546, 18289505, 19004529, 20594617, 20969529, 21482441, 22049191, 23232034, 23802509, 23964225, 25114679, 25598195, 25631781, 25684214, 25877267, 26976043, 27148107, 28462387, 28671504, 29029762, 29209183, 29406610, 29843832, 29848469, 31026198, 31082289, 31547145, 31730165, 33008394, 34203041, 34408904, 34541288, 34925184, 35149261]\n"
     ]
    }
   ],
   "source": [
    "print(inverted_index['amsterdam'])"
   ]
  },
  {
   "cell_type": "markdown",
   "metadata": {},
   "source": [
    "We can now use this inverted index to answer simple one-word queries, for example to show all papers that contain the word 'utrecht':"
   ]
  },
  {
   "cell_type": "code",
   "execution_count": 9,
   "metadata": {},
   "outputs": [
    {
     "data": {
      "text/html": [
       "<strong><a href=http://dx.doi.org/10.1016/j.ejphar.2013.04.055>Sweet memories: 20 years of progress in research on cognitive functioning in diabetes.</a></strong><br>2013. Biessels GJ<br><small><strong>Abstract:</strong> <em>This paper appears in a special issue of the European Journal of Pharmacology that commemorates the retirement of Professor Willem Hendrik Gispen as distinguished professor of Utrecht University and as editor of the European Journal of Pharmacology. The paper provides an overview of a research line on the impact of diabetes on cognition that we started together 20 years ago, and that continues to this day. I will report how we more or less stumbled upon this topic, that was understudied, but proved to be of definite clinical relevance. I will discuss how we tried to establish animal models, how developments from clinical and experimental studies from around the world led us to reconsider our concepts, and how findings from research on diabetic neuropathy, insulin signaling in the brain, Alzheimer's disease and dementia, and vascular disease and stroke converged and helped to create new ideas and refute others. This voyage has not ended yet, because the ultimate goal is to offer patients with diabetes treatment that can protect them against accelerated cognitive decline. Although this could take another 20 years, the research from Willem Hendrik and his group brought us an important step in the right direction. </em></small><br>[ID: 23872409]"
      ],
      "text/plain": [
       "<IPython.core.display.HTML object>"
      ]
     },
     "metadata": {},
     "output_type": "display_data"
    },
    {
     "data": {
      "text/html": [
       "<strong><a href=http://dx.doi.org/10.1097/MRR.0000000000000198>Predictors of physical independence at discharge after stroke rehabilitation in a Dutch population.</a></strong><br>2017. Ten Brink AF, Hajos TR, van Bennekom C, Nachtegaal J, Meulenbelt HE, Fleuren JF, Kouwenhoven M, Luijkx MM, Wijffels MP, Post MW<br><small><strong>Abstract:</strong> <em>The aim of this study was to identify predictors, available at admission, of physical independence at discharge from inpatient rehabilitation. Secondary aims were to identify predictors of functional gain and length of stay (LOS). We included 1310 adult stroke patients who were admitted for inpatient rehabilitation in five Dutch rehabilitation centres. Data on the Utrecht Scale for Evaluation of Clinical Rehabilitation at admission and discharge (physical and cognitive independence, mood, pain and fatigue), age, sex and in a subsample stroke characteristics as well were collected. A prediction model was created using random coefficient analysis. None of the stroke characteristics were independently associated with physical independence or functional gain at discharge, or LOS. Higher physical and cognitive independence scores and severe pain at admission were predictors of higher physical independence scores at discharge. Furthermore, lower physical independence scores, higher cognitive independence scores, less pain at admission and younger age predicted more functional gain. Finally, lower physical and cognitive independence scores at admission and younger age predicted longer LOS. Physical independence at admission was the most robust predictor for rehabilitation outcome in a Dutch rehabilitation setting. To a lesser extent, age, cognitive independence and pain predicted rehabilitation outcome after stroke. Treatment of cognition and pain should be taken into account during rehabilitation. Further work needs to be carried out to establish whether focusing on these factors improves outcome after rehabilitation.</em></small><br>[ID: 27749516]"
      ],
      "text/plain": [
       "<IPython.core.display.HTML object>"
      ]
     },
     "metadata": {},
     "output_type": "display_data"
    },
    {
     "data": {
      "text/html": [
       "<strong><a href=http://dx.doi.org/10.1080/09602011.2017.1313746>Return to work after mild-to-moderate stroke: work satisfaction and predictive factors.</a></strong><br>2019. van der Kemp J, Kruithof WJ, Nijboer TCW, van Bennekom CAM, van Heugten C, Visser-Meily JMA<br><small><strong>Abstract:</strong> <em>A large proportion of stroke patients are unable to return to work (RTW), although figures vary greatly. A total of 121 mild-to-moderate stroke patients, who had a paid job at the time of their stroke were included (a) to quantify RTW and work satisfaction one-year post-stroke (using the Utrecht Scale for Evaluation of Rehabilitation-Participation) and (b) to determine factors predicting RTW post-stroke, based on stroke-related, personal and neuropsychological variables. Half of the patients were not in work (28%) or were working less (22%) than pre-stroke. Ninety percent of those in fulltime employment post-stroke were satisfied with their occupational situation, against 36% of the unemployed participants. In regards to factors predicting RTW, global cognitive functioning (r = .19, Montreal Cognitive Assessment) and depressive symptoms (r = -.16, Hospital Anxiety and Depression Scale) at two months post-stroke onset were associated with return to work within one year. Only global cognitive functioning was an independent predictor of RTW (11.3% variance, p = .013). Although the explained variance was not that high, neuropsychological factors probably play a pivotal role in returning to work and should be taken into account during rehabilitation after mild and moderate stroke.</em></small><br>[ID: 28441897]"
      ],
      "text/plain": [
       "<IPython.core.display.HTML object>"
      ]
     },
     "metadata": {},
     "output_type": "display_data"
    },
    {
     "data": {
      "text/html": [
       "<strong><a href=http://dx.doi.org/10.1080/09602011.2019.1692670>The relationship between social cognition and participation in the long term after stroke.</a></strong><br>2021. Stiekema APM, Nijsse B, de Kort PLM, Spikman JM, Visser-Meily JMA, van Heugten CM<br><small><strong>Abstract:</strong> <em>Social cognitive impairments may play a role in participation restrictions after stroke. Understanding their relationship could inform treatment approaches to improve participation. We investigated the relationship between social cognition and participation in the long term after stroke. Of 395 patients participating in a large prospective cohort study, cross-sectional data were available at 3-4 years post-stroke of 118 patients on tests for emotion recognition, theory of mind, empathy, and behaviour regulation. Participation was assessed with the Utrecht Scale for Evaluation of Rehabilitation - Participation (USER-P). Bivariate and multivariate regression analysis were used to examine the relationship between social cognitive domains and participation. The majority suffered from minor stroke (83.1% scored NIHSS 0-4). Only behaviour regulation was related to participation restrictions in bivariate analysis, but social cognitive impairments did not predict participation restrictions in multivariate regression in this group. To conclude, in a sample of minor stroke patients with mild impairments in theory of mind, emotion recognition and behavioural control, there were no associations with restrictions in participation. Research should examine whether a relationship is present in patients with more severe stroke. In addition, measuring social aspects of participation is necessary to further unravel this relationship, to determine treatment targets for improving participation.</em></small><br>[ID: 31854264]"
      ],
      "text/plain": [
       "<IPython.core.display.HTML object>"
      ]
     },
     "metadata": {},
     "output_type": "display_data"
    },
    {
     "data": {
      "text/html": [
       "<strong><a href=http://dx.doi.org/10.1080/09602011.2020.1769687>Which approach to measure cognitive functioning should be preferred when exploring the association between cognitive functioning and participation after stroke?</a></strong><br>2021. de Graaf JA, Nijsse B, Schepers VPM, van Heugten CM, Post MWM, Visser-Meily JMA<br><small><strong>Abstract:</strong> <em>A variety of approaches are currently used to explore the relationship between cognitive functioning and participation after stroke. We aimed to gain insight into the preferred approach to measure cognitive functioning when exploring the association between cognitive functioning and participation in the long term after stroke. In this inception cohort study 128 individuals with stroke participated and were assessed at a single time point three to four years after the event. Participation was measured using the Restrictions subscale of the Utrecht Scale for Evaluation of Rehabilitation-Participation. Subjective cognitive complaints were assessed using the Cognition subscale of the Checklist for Cognitive and Emotional Consequences (CLCE-24-C). Objective cognitive performance was measured using the Montreal Cognitive Assessment (MoCA) and a neuropsychological test battery (NTB) testing multiple cognitive domains. Participation showed a strong correlation (</em></small><br>[ID: 32496877]"
      ],
      "text/plain": [
       "<IPython.core.display.HTML object>"
      ]
     },
     "metadata": {},
     "output_type": "display_data"
    },
    {
     "data": {
      "text/html": [
       "<strong><a href=http://dx.doi.org/10.5964/ejop.v16i1.1832>Examining the Relationship Between Engagement and Perceived Stress-Related Cognitive Complaints in the Argentinian Working Population.</a></strong><br>2020. Miranda AR, Rivadero L, Bruera JÁ, Villarreal V, Bernio LY, de Los Ángeles Baydas L, Brizuela ML, Serra SV<br><small><strong>Abstract:</strong> <em>Stress has a negative impact on cognitive functioning and occupational well-being. The aim of this study was to assess the relationship among perceived stress, cognitive complaints and work engagement in public employees from Córdoba, Argentina. In this cross-sectional study, self-report questionnaires were administered to 240 participants. Spanish versions of the following instruments were used: Perceived Stress Scale (PSS), Utrecht Work Engagement Scale (UWES), Memory Failures in Everyday (MFE), Executive Complaint Questionnaire (ECQ). Statistical analysis included ANOVA, path analysis, and multiple logistic regression. Stressed workers showed lower work engagement and more cognitive complaints, even after adjusting for demographic variables. Negative associations were also observed between work engagement and cognitive complaints, suggesting that cognitive difficulties are related to engagement. Given the relation among stress, cognition, and work engagement, it is important to consider these factors to foster workers' health and work productivity.</em></small><br>[ID: 33680167]"
      ],
      "text/plain": [
       "<IPython.core.display.HTML object>"
      ]
     },
     "metadata": {},
     "output_type": "display_data"
    }
   ],
   "source": [
    "query_word = 'utrecht'\n",
    "for i in inverted_index[query_word]:\n",
    "    display_summary(i, show_abstract=True)"
   ]
  },
  {
   "cell_type": "markdown",
   "metadata": {},
   "source": [
    "----------"
   ]
  },
  {
   "cell_type": "markdown",
   "metadata": {},
   "source": [
    "# Tasks"
   ]
  },
  {
   "cell_type": "markdown",
   "metadata": {},
   "source": [
    "**Your name: Riley Crahen**"
   ]
  },
  {
   "cell_type": "markdown",
   "metadata": {},
   "source": [
    "### Task 1\n",
    "\n",
    "Implement the function `and_merge` outlined below. This function takes two posting lists from the index that can be assumed to be sorted already, and it should return the result of the merging of the two lists with AND. The resulting list should therefore include all the elements that appear in both lists. As explained on the slides, this operation should take advantage of the input lists being sorted already, should not perform any additional sorting operation, and should go through each of the input lists just once. Then, test your function with an example."
   ]
  },
  {
   "cell_type": "code",
   "execution_count": 10,
   "metadata": {},
   "outputs": [
    {
     "name": "stdout",
     "output_type": "stream",
     "text": [
      "['and', 'there']\n"
     ]
    }
   ],
   "source": [
    "def and_merge(l1, l2):\n",
    "    combined = [];\n",
    "    index1 = 0;\n",
    "    index2 = 0;\n",
    "\n",
    "    while(index1 < len(l1) and index2 < len(l2)):\n",
    "        if(l1[index1] < l2[index2]):\n",
    "            index1+=1;\n",
    "        elif(l2[index2] < l1[index1]):\n",
    "            index2+=1;\n",
    "        else:\n",
    "            #they are equal\n",
    "            #add to combined\n",
    "            combined.append(l1[index1])\n",
    "            #increment both\n",
    "            index1+=1;\n",
    "            index2+=1;\n",
    "    return combined;\n",
    "\n",
    "l1 = [\"aaaple\", \"and\", \"that\", \"there\"];\n",
    "l2 = [\"and\", \"here\", \"there\"];\n",
    "\n",
    "print(and_merge(l1, l2))\n"
   ]
  },
  {
   "cell_type": "markdown",
   "metadata": {},
   "source": [
    "### Task 2\n",
    "\n",
    "Similarly as above, implement the function `or_merge` outlined below that executes an OR merging of the lists. The resulting list should therefore include all the elements that appear in at least one of the lists (note this is an 'inclusive OR' and not a 'XOR'). Again, this operation should take advantage of the input lists being sorted already, should not perform any additional sorting operation, and should go through each of the input lists just once. Elements that appear in both input list should only appear once in the output list. Test your function again with an example."
   ]
  },
  {
   "cell_type": "code",
   "execution_count": 11,
   "metadata": {},
   "outputs": [
    {
     "name": "stdout",
     "output_type": "stream",
     "text": [
      "['aaaple', 'and', 'here', 'that', 'there', 'why', 'zebra']\n"
     ]
    }
   ],
   "source": [
    "def or_merge(l1, l2):\n",
    "    combined = [];\n",
    "    index1 = 0;\n",
    "    index2 = 0;\n",
    "\n",
    "    while(index1 < len(l1) and index2 < len(l2)):\n",
    "        if(l1[index1] < l2[index2]):\n",
    "            combined.append(l1[index1]);\n",
    "            index1+=1;\n",
    "        elif(l2[index2] < l1[index1]):\n",
    "            combined.append(l2[index2])\n",
    "            index2+=1;\n",
    "            \n",
    "        else:\n",
    "            combined.append(l1[index1])\n",
    "            #increment both\n",
    "            index1+=1;\n",
    "            index2+=1;\n",
    "\n",
    "        #add all remaining values\n",
    "    while(index1 < len(l1)):\n",
    "        combined.append(l1[index1]);\n",
    "        index1+=1;\n",
    "    while(index2 < len(l2)):\n",
    "        combined.append(l2[index2]);\n",
    "        index2+=1;\n",
    "\n",
    "    return combined;\n",
    "\n",
    "l1 = [\"aaaple\", \"and\", \"that\", \"there\"];\n",
    "l2 = [\"and\", \"here\", \"there\", \"why\", \"zebra\"];\n",
    "\n",
    "print(or_merge(l1, l2))"
   ]
  },
  {
   "cell_type": "markdown",
   "metadata": {},
   "source": [
    "### Task 3\n",
    "\n",
    "Construct a function called `and_query` that takes as input a single string, consisting of one or more words, and returns as function value a list of matching documents. `and_query`, as its name suggests, should require that all query terms are present in the documents of the result list.\n",
    "\n",
    "For that, access the variable `inverted_index` from above and use the method `and_merge` that you defined. Also use the `tokenize` and `preprocess` functions we defined above to tokenize and preprocess your query.\n",
    "\n",
    "Again demonstrate the working of your function with an example (choose one that leads to fewer than 100 hits to not overblow this notebook file)."
   ]
  },
  {
   "cell_type": "code",
   "execution_count": 12,
   "metadata": {},
   "outputs": [
    {
     "name": "stdout",
     "output_type": "stream",
     "text": [
      "[23872409]\n",
      "2\n"
     ]
    },
    {
     "data": {
      "text/html": [
       "<strong><a href=http://dx.doi.org/10.1080/15389588.2021.1880007>Brake response time between male drivers with and without paraplegia: Association between sociodemographic, motor and neurological characteristics.</a></strong><br>2021. Santos S, Brech GC, Alonso AC, Greve JMD<br><small><strong>Abstract:</strong> <em> Objective: The objective of this study was to compare the brake response time of drivers with paraplegia (who use hand control) with drivers without paraplegia (who use their feet) in a virtual driving simulator brake test. Additionally, we aimed to predict and evaluate the association of virtual brake response time with sociodemographic, motor and cognitive variables. Methods: 40 male adult drivers, with paraplegia (n = 20, mean age 38.1 ± 3.6 years) and without paraplegia (n = 20, mean age 38.0 ± 5.8 years), with valid driver licenses, had their brake response time evaluated in an automatic transmission car simulator. Non-disabled drivers were tested with conventional foot controls, while paraplegic drivers used hand controls. Drivers with paraplegia performed simple, choice and go/no-go reaction time tests as neuropsychological evaluations. Student's t -test was used to examine the differences of driving simulator brake response time between groups. Pearson coefficient verified the correlation of driving simulator brake response time with years of driving, length of disability, handgrip strength and neuropsychological tests of the paraplegic drivers. A regression model was developed to describe the mean of driving simulator brake response time using the backward elimination method for model adjustment selecting the explanatory variables. Results: Differences of simulator brake response time between groups were not statistically significant (non-paraplegic drivers = 0.90 seconds; paraplegic drivers = 0.92 seconds, p &gt; 0.05). Years of driving significantly correlates with brake response time of paraplegic driver (r= -58, p = 0.009). Linear regression analyses indicated that years of schooling and years of driving (explanatory variables) explained 60.2% of driving simulator brake response time for the drivers with paraplegia. Driving simulator brake response time showed no difference between drivers with and without paraplegia. Years of driving and schooling were the main predictors of braking performance in drivers with paraplegia measured in a driving simulator. </em></small><br>[ID: 33661082]"
      ],
      "text/plain": [
       "<IPython.core.display.HTML object>"
      ]
     },
     "metadata": {},
     "output_type": "display_data"
    },
    {
     "data": {
      "text/html": [
       "<strong><a href=http://dx.doi.org/10.3390/brainsci11080985>Higher Handgrip Strength Is Linked to Better Cognitive Performance in Chinese Adults with Hypertension.</a></strong><br>2021. Lu S, Herold F, Zhang Y, Lei Y, Kramer AF, Jiao C, Yu Q, Doig S, Li J, Yan Z, Kuang J, Wang T, Zou L<br><small><strong>Abstract:</strong> <em>There is growing evidence that in adults, higher levels of handgrip strength (HGS) are linked to better cognitive performance. However, the relationship between HGS and cognitive performance has not been sufficiently investigated in special cohorts, such as individuals with hypertension who have an intrinsically higher risk of cognitive decline. Thus, the purpose of this study was to examine the relationship between HGS and cognitive performance in adults with hypertension using data from the Global Ageing and Adult Health Survey (SAGE).</em></small><br>[ID: 34439604]"
      ],
      "text/plain": [
       "<IPython.core.display.HTML object>"
      ]
     },
     "metadata": {},
     "output_type": "display_data"
    }
   ],
   "source": [
    "def and_query(inputString):\n",
    "    tokenizedInput = preprocess(tokenize(inputString));\n",
    "    \n",
    "    matchingDocuments = inverted_index[tokenizedInput[0]];\n",
    "    \n",
    "    for x in range(len(tokenizedInput)-1):\n",
    "        matchingDocuments = and_merge(matchingDocuments, inverted_index[tokenizedInput[x+1]]);\n",
    "    \n",
    "    return matchingDocuments;\n",
    "\n",
    "print(and_query(\"utrecht converged\"));\n",
    "print(len(and_query(\"adult handgrip strength\")));\n",
    "\n",
    "and_query_string = 'adult handgrip strength'\n",
    "and_query_docs = and_query(and_query_string)\n",
    "for i in and_query_docs:\n",
    "    display_summary(i, show_abstract=True)"
   ]
  },
  {
   "cell_type": "markdown",
   "metadata": {},
   "source": [
    "### Task 4\n",
    "\n",
    "Construct another function called `or_query` that works in the same way as `and_query` you just implemented, but returns as function value the documents that contain _at least one_ of the words in the query, using the `or_merge` function you defined.\n",
    "\n",
    "Demonstrate the working of this function also with an example (again, choose one that leads to fewer than 100 hits)."
   ]
  },
  {
   "cell_type": "code",
   "execution_count": 13,
   "metadata": {},
   "outputs": [
    {
     "name": "stdout",
     "output_type": "stream",
     "text": [
      "5339\n",
      "apple + orange - (apple AND orange) :\n",
      "34\n",
      "\n",
      "... should be the same as apple OR orange\n",
      "34\n"
     ]
    },
    {
     "data": {
      "text/html": [
       "<strong><a href=http://dx.doi.org/10.1016/j.neuint.2012.01.021>Involvement of glucocorticoid-mediated Zn2+ signaling in attenuation of hippocampal CA1 LTP by acute stress.</a></strong><br>2012. Takeda A, Suzuki M, Tamano H, Takada S, Ide K, Oku N<br><small><strong>Abstract:</strong> <em>Glucocorticoid-glutamatergic interactions have been proposed as a potential model to explain stress-mediated impairment of cognition. However, it is unknown whether glucocorticoid-zincergic interactions are involved in this impairment. Histochemically reactive zinc (Zn(2+)) is co-released with glutamate from zincergic neurons. In the present study, involvement of synaptic Zn(2+) in stress-induced attenuation of CA1 LTP was examined in hippocampal slices from young rats after exposure to tail suspension stress for 30s, which significantly increased serum corticosterone. Stress-induced attenuation of CA1 LTP was ameliorated by administration of clioquinol, a membrane permeable zinc chelator, to rats prior to exposure to stress, implying that the reduction of synaptic Zn(2+) by clioquinol participates in this amelioration. To pursue the involvement of corticosterone-mediated Zn(2+) signal in the attenuated CA1 LTP by stress, dynamics of synaptic Zn(2+) was checked in hippocampal slices exposed to corticosterone. Corticosterone increased extracellular Zn(2+) levels measured with ZnAF-2 dose-dependently, as well as the intracellular Ca(2+) levels measured with calcium orange AM, suggesting that corticosterone excites zincergic neurons in the hippocampus and increases Zn(2+) release from the neuron terminals. Intracellular Zn(2+) levels measured with ZnAF-2DA were also increased dose-dependently, but not in the coexistence of CaEDTA, a membrane-impermeable zinc chelator, suggesting that intracellular Zn(2+) levels is increased by the influx of extracellular Zn(2+). Furthermore, corticosterone-induced attenuation of CA1 LTP was abolished in the coexistence of CaEDTA. The present study suggests that corticosterone-mediated increase in postsynaptic Zn(2+) signal in the cytosolic compartment is involved in the attenuation of CA1 LTP after exposure to acute stress.</em></small><br>[ID: 22306774]"
      ],
      "text/plain": [
       "<IPython.core.display.HTML object>"
      ]
     },
     "metadata": {},
     "output_type": "display_data"
    },
    {
     "data": {
      "text/html": [
       "<strong><a href=http://dx.doi.org/10.1016/j.jtemb.2012.03.016>Zinc signaling in the hippocampus and its relation to pathogenesis of depression.</a></strong><br>2012. Takeda A<br><small><strong>Abstract:</strong> <em>Histochemically reactive zinc (Zn(2+)) is co-released with glutamate from zincergic neurons, a subclass of glutamatergic neurons. Zn(2+) serves as a signal factor in both the extracellular and intracellular compartments. Glucocorticoid-glutamatergic interactions have been proposed as a potential model to explain stress-mediated impairment of hippocampal function, i.e., cognition. However, it is unknown whether glucocorticoid-zincergic interactions are involved in this impairment. In the present study, involvement of synaptic Zn(2+) in stress-induced attenuation of CA1 LTP was examined in hippocampal slices from young rats after exposure to tail suspension stress for 30s, which significantly increased serum corticosterone. Stress-induced attenuation of CA1 LTP was ameliorated by administration of clioquinol, a membrane permeable zinc chelator, to rats prior to exposure to stress, implying that the reduction of synaptic Zn(2+) by clioquinol participates in this amelioration. To pursue the involvement of corticosterone-mediated Zn(2+) signal in the attenuated CA1 LTP by stress, dynamics of synaptic Zn(2+) was checked in hippocampal slices exposed to corticosterone. Corticosterone increased extracellular Zn(2+) levels measured with ZnAF-2 dose-dependently, as well as the intracellular Ca(2+) levels measured with calcium orange AM, suggesting that corticosterone excites zincergic neurons in the hippocampus and increases Zn(2+) release from the neuron terminals. Intracellular Zn(2+) levels measured with ZnAF-2DA were also increased dose-dependently, but not in the coexistence of CaEDTA, a membrane-impermeable zinc chelator, suggesting that intracellular Zn(2+) levels is increased by the influx of extracellular Zn(2+). Furthermore, corticosterone-induced attenuation of CA1 LTP was abolished in the coexistence of CaEDTA. The present study suggests that corticosterone-mediated increase in postsynaptic Zn(2+) signal in the cytosolic compartment is involved in the attenuation of CA1 LTP after exposure to acute stress. We propose that corticosterone-mediated increase in postsynaptic Zn(2+) signal, which is induced by acute stress, changes hippocampal function and then is possibly a risk factor under chronic stress circumstances to induce depressive symptoms.</em></small><br>[ID: 22560194]"
      ],
      "text/plain": [
       "<IPython.core.display.HTML object>"
      ]
     },
     "metadata": {},
     "output_type": "display_data"
    },
    {
     "data": {
      "text/html": [
       "<strong><a href=http://dx.doi.org/10.1016/j.cognition.2013.11.016>The origins of belief representation: monkeys fail to automatically represent others' beliefs.</a></strong><br>2014. Martin A, Santos LR<br><small><strong>Abstract:</strong> <em>Young infants' successful performance on false belief tasks has led several researchers to argue that there may be a core knowledge system for representing the beliefs of other agents, emerging early in human development and constraining automatic belief processing into adulthood. One way to investigate this purported core belief representation system is to examine whether non-human primates share such a system. Although non-human primates have historically performed poorly on false belief tasks that require executive function capacities, little work has explored how primates perform on more automatic measures of belief processing. To get at this issue, we modified Kovács et al. (2010)'s test of automatic belief representation to examine whether one non-human primate species--the rhesus macaque (Macaca mulatta)--is automatically influenced by another agent's beliefs when tracking an object's location. Monkeys saw an event in which a human agent watched an apple move back and forth between two boxes and an outcome in which one box was revealed to be empty. By occluding segments of the apple's movement from either the monkey or the agent, we manipulated both the monkeys' belief (true or false) and agent's belief (true or false) about the final location of the apple. We found that monkeys looked longer at events that violated their own beliefs than at events that were consistent with their beliefs. In contrast to human infants, however, monkeys' expectations were not influenced by another agent's beliefs, suggesting that belief representation may be an aspect of core knowledge unique to humans.</em></small><br>[ID: 24374209]"
      ],
      "text/plain": [
       "<IPython.core.display.HTML object>"
      ]
     },
     "metadata": {},
     "output_type": "display_data"
    },
    {
     "data": {
      "text/html": [
       "<strong><a href=http://dx.doi.org/10.1167/14.8.1>Perceptual decision processes flexibly adapt to avoid change-of-mind motor costs.</a></strong><br>2014. Moher J, Song JH<br><small><strong>Abstract:</strong> <em>The motor system is tightly linked with perception and cognition. Recent studies have shown that even anticipated biophysical action costs associated with competing response options can be incorporated into decision-making processes. As a result, choices associated with high energy costs are less likely to be selected. However, some action costs may be harder to predict. For example, a person choosing among apples at a grocery store may change his or her mind suddenly about which apple to put into the cart. This change of mind may be reflected in motor output as the initial decision triggers a motor response toward a Granny Smith that is subsequently redirected toward a Red Delicious. In the present study, to examine how motor costs associated with changes of mind affect perceptual decision making, participants performed a difficult random dot–motion discrimination task in which they had to indicate the direction of motion by reaching to one of two response options. Although each response box was always equidistant from the starting position, the physical distance between the two response options was varied. We found that when the boxes were far apart from one another, and thus changes of mind incurred greater redirection motor costs, change-of-mind frequency decreased while latency to initiate movement increased. This occurred even when response box distance varied randomly from trial to trial and was cued only 1 s before each trial began. Thus, we demonstrated that observers can dynamically adjust perceptual decision-making processes to avoid high motor costs incurred by a change of mind.</em></small><br>[ID: 24986186]"
      ],
      "text/plain": [
       "<IPython.core.display.HTML object>"
      ]
     },
     "metadata": {},
     "output_type": "display_data"
    },
    {
     "data": {
      "text/html": [
       "<strong><a href=http://dx.doi.org/10.1016/bs.pbr.2014.11.008>Frederick Delius: controversies regarding his neurological disorder and its impact on his compositional output.</a></strong><br>2015. Lederman RJ<br><small><strong>Abstract:</strong> <em>Frederick Delius was born in Yorkshire, England, on June 29, 1862, the son of German immigrants. He showed early musical talent but his father, a wealthy wool merchant, insisted he pursue a business career. After several failures, including an assignment managing an orange grove near Jacksonville, Florida, his father agreed to support his musical studies in Leipzig, assuming he would then become self-sufficient. Delius spent most of his adult life in France, living with and ultimately marrying Jelka Rosen, a painter of independent means, composing prolifically, and being sexually promiscuous both before and after starting life with Jelka. He contracted syphilis in 1895 and manifestations of neurosyphilis appeared in 1910. Despite periods of relative good health over the ensuing 10 years, he became progressively disabled from 1920 on, ultimately quadriparetic and blind but with preserved cognition and musical inspiration. In his final years, he completed several compositions aided by a young British musician, Eric Fenby, who served as his amanuensis and caregiver, along with Jelka, to his death on June 10, 1934. </em></small><br>[ID: 25684292]"
      ],
      "text/plain": [
       "<IPython.core.display.HTML object>"
      ]
     },
     "metadata": {},
     "output_type": "display_data"
    }
   ],
   "source": [
    "def or_query(inputString):\n",
    "    tokenizedInput = preprocess(tokenize(inputString));\n",
    "    \n",
    "    matchingDocuments = inverted_index[tokenizedInput[0]];\n",
    "    \n",
    "    for x in range(len(tokenizedInput)-1):\n",
    "        matchingDocuments = or_merge(matchingDocuments, inverted_index[tokenizedInput[x+1]]);\n",
    "    \n",
    "    return matchingDocuments;\n",
    "\n",
    "print(len(or_query(\"adult handgrip strength\")));\n",
    "print(\"apple + orange - (apple AND orange) :\");\n",
    "print(len(or_query(\"apple\")) + len(or_query(\"orange\")) - len(and_query(\"apple orange\")));\n",
    "\n",
    "print(\"\\n... should be the same as apple OR orange\");\n",
    "print(len(or_query(\"apple orange\")));\n",
    "\n",
    "or_query_docs = or_query(\"apple orange\");\n",
    "\n",
    "for i in range(0,5):\n",
    "    display_summary(or_query_docs[i], show_abstract=True);"
   ]
  },
  {
   "cell_type": "markdown",
   "metadata": {},
   "source": [
    "### Task 5\n",
    "\n",
    "Why does `and_query('adult handgrip strength')` not return our example paper 28102890, even though it mentions handgrip strength and adults in the abstract? (You do not have to implement anything to fix this yet!)"
   ]
  },
  {
   "cell_type": "markdown",
   "metadata": {},
   "source": [
    "Adults in this is plural, and neither tokenize nor preprocess strips off the 's' from 'adults'.\n",
    "It is a boolean matching function, and because it doesn't match exactly it will not return this document."
   ]
  },
  {
   "cell_type": "markdown",
   "metadata": {},
   "source": [
    "# Submission"
   ]
  },
  {
   "cell_type": "markdown",
   "metadata": {},
   "source": [
    "Submit the answers to the assignment via Canvas as a modified version of this Notebook file (file with `.ipynb` extension) that includes your code and your answers.\n",
    "\n",
    "Before submitting, restart the kernel and re-run the complete code (**Kernel > Restart & Run All**), and then check whether your assignment code still works as expected.\n",
    "\n",
    "Don't forget to add your name, and remember that the assignments have to be done **individually**, and that code sharing or copying are **strictly forbidden** and will be punished."
   ]
  }
 ],
 "metadata": {
  "kernelspec": {
   "display_name": "Python 3 (ipykernel)",
   "language": "python",
   "name": "python3"
  },
  "language_info": {
   "codemirror_mode": {
    "name": "ipython",
    "version": 3
   },
   "file_extension": ".py",
   "mimetype": "text/x-python",
   "name": "python",
   "nbconvert_exporter": "python",
   "pygments_lexer": "ipython3",
   "version": "3.9.12"
  }
 },
 "nbformat": 4,
 "nbformat_minor": 4
}
